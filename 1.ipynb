import numpy as np

# input data/matrix
Doctors = int(input('input the number of Doctors'))
Residencies = int(input('input the number of Residencies'))
matrix=[] # matrix of interest

for i in range(Doctors):
    row = []
    for j in range(Residencies):
        row.append(int(input("input no.{} row and no.{} col of the interest matrix: ".format(i+1, j+1))))
    matrix.append(row)

for k in range(Residencies-Doctors):
    row0 = []
    for l in range(Residencies):
        row0.append(0)
    matrix.append(row0)

Net = matrix
print(Net)

class KM_Algorithm:

    def __init__(self, Bipartite_Graph,Doctors,Residencies):
        self.Bipartite_Graph = Bipartite_Graph

        #define the number of L nodes and R nodes 
        self.left = Residencies  
        self.right = Residencies

        # initial the label
        self.label_left = np.max(self.Bipartite_Graph, axis=1)  # make the label of L nodes be the max weight of its edges
        self.label_right = np.zeros(self.right)  # make the label of L nodes be 0

        # define a variable serving as flag
        self.visit_left = np.zeros(self.left, dtype=bool)#represent whether the nodes are visited
        self.visit_right = np.zeros(self.right, dtype=bool)

        # initial the result of matching
        self.match_right = np.empty(self.left) * np.nan
       
        # initial the step when KM Algorithm need to change the label, equal to gap 
        self.inc = 999999

    def match(self, L):
        L = int(L)
        #record the visited L nodes 
        self.visit_left[L] = True
        for R in range(self.right):
            # if the R node is not matched
            if not self.visit_right[R]:
                gap = self.label_left[L] + self.label_right[R] - self.Bipartite_Graph[L][R]
                if gap == 0:   # # if the gap equal to 0, the road can be changed directly
                    self.visit_right[R] = True

                    # if the R node is not matched or the matched L node has other options 
                    if np.isnan(self.match_right[R]) or self.match(self.match_right[R]):
                        self.match_right[R] = L
                        # use recursion to get a matching
                        return 1

                # find the gap with smallest weight
                elif self.inc > gap:
                    self.inc = gap
        return 0

    def Kuh_Munkras(self):

        self.match_right = np.empty(self.left) * np.nan

        # find the perfect match
        for man in range(self.left):
            while True:
                self.inc = 999999  # the minimum gap
                self.reset()  # reset the visited flag 

                # find the matching
                if self.match(man):
                    break

                # if we can not find a matching, follow the next two step to change the label
                # (1)all the labels of L nodes in the augmented branches minus inc we get before
                # (2)all the labels of R nodes in the augmented branches plus inc we get before
                for k in range(self.left):
                    if self.visit_left[k]:
                        self.label_left[k] -= self.inc
                for n in range(self.right):
                    if self.visit_right[n]:
                        self.label_right[n] += self.inc

    def calculateSum(self):
        sum = 0
        for i in range(self.left):
            sum += self.Bipartite_Graph[int(self.match_right[i])][i]
        return sum

    def getResult(self):
        self.match_result = np.zeros(Doctors,dtype=int)
        for i in range(self.match_right.shape[0]):
            if int(self.match_right[i]) < Doctors:
                self.match_result[int(self.match_right[i])]=int(i+1)
        return self.match_result

    def set_Bipartite_Graph(self, Bipartite_Graph):
        self.Bipartite_Graph = Bipartite_Graph

    def reset(self):
        # variable for record path
        self.visit_left = np.zeros(self.left, dtype=bool)
        self.visit_right = np.zeros(self.right, dtype=bool)


if __name__ == '__main__':

    sum = 0

    km = KM_Algorithm(np.array(Net),Doctors,Residencies)

    km.Kuh_Munkras()
    print('max interest:',km.calculateSum())
    print(km.Bipartite_Graph,km.getResult())
